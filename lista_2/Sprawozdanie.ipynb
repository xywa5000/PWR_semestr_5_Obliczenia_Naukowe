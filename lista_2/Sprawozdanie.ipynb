{
 "cells": [
  {
   "cell_type": "markdown",
   "metadata": {},
   "source": [
    "Krzysztof Dobrucki\\\n",
    "Numer albumu 268507\\\n",
    "Informatyka Algorytmiczna\\\n",
    "Semestr Zimowy 2023/2024\\\n",
    "Politechnika Wrocławska\\\n",
    "05.11.2023r."
   ]
  },
  {
   "cell_type": "markdown",
   "metadata": {},
   "source": [
    "***\n",
    "# Lista 2\n",
    "## Obliczenia Naukowe\n",
    "***"
   ]
  },
  {
   "cell_type": "markdown",
   "metadata": {},
   "source": [
    "## Zadanie 1."
   ]
  },
  {
   "cell_type": "markdown",
   "metadata": {},
   "source": [
    "#### Opis zadania\n",
    "Zadaniem było zbadanie, jak wpływ na wynik iloczynu skalarnego dwóch wektorów (obliczanego przy użyciu algorytmów z zadania 5 z listy 1) mają pozornie niewielkie zmiany danych. Wektory w pierwotnej wersji zadania miały postać:\n",
    "$$ x = [2.718281828, −3.141592654, 1.414213562, 0.5772156649, 0.3010299957] $$\n",
    "$$ y = [1486.2497, 878366.9879, −22.37492, 4773714.647, 0.000185049] $$\n",
    "Natomiast po naniesieniu opisanych zmian wektor $x$ przyjął postać:\n",
    "$$ x' = [2.718281828, −3.141592654, 1.414213562, 0.577215664, 0.301029995] $$\n"
   ]
  },
  {
   "cell_type": "markdown",
   "metadata": {},
   "source": [
    "#### Wyniki\n",
    "\n",
    "Float32\n",
    "| Algorytm        | $$ x*y $$  | $$ x'*y $$ |\n",
    "|-----------------|------------|------------|\n",
    "| forward         | -0.4999443 | -0.4999443 |\n",
    "| backward        | -0.4543457 | -0.4543457 |\n",
    "| descending_order| -0.5       | -0.5       |\n",
    "| ascending_order | -0.5       | -0.5       |\n",
    "\n",
    "Float64\n",
    "| Algorytm        | $$ x*y $$  | $$ x'*y $$ |\n",
    "|-----------------|------------|------------|\n",
    "| forward         | 1.0251881368296672e-10 | -0.004296342739891585 |\n",
    "| backward        | -1.5643308870494366e-10 | -0.004296342998713953 |\n",
    "| descending_order| 0.0       | -0.004296342842280865      |\n",
    "| ascending_order | 0.0       | -0.004296342842280865       |"
   ]
  },
  {
   "cell_type": "markdown",
   "metadata": {},
   "source": [
    "#### Wnioski\n",
    "Wygląda na to, że choć błędy bezwzględne w obu próbach są podobnego rzędu wielkości, precyzyjna wartość iloczynu uległa znaczącej zmianie. W rezultacie błędy względne znacznie się zmniejszyły. Nawet drobne modyfikacje wejścia na poziomie $10^{-10}$ spowodowały zmianę rzędu wielkości wyniku od $10^{-11}$ do $10^{-3}$. Możemy więc wnioskować, że zastosowane przez nas algorytmy nie są nieefektywne, ale raczej to zadanie jest źle uwarunkowane – niewielkie zaburzenia wejścia mają znaczący wpływ na otrzymane wyniki."
   ]
  },
  {
   "cell_type": "markdown",
   "metadata": {},
   "source": [
    "***\n",
    "## Zadanie 2."
   ]
  },
  {
   "cell_type": "markdown",
   "metadata": {},
   "source": [
    "#### Opis zadania\n",
    "Celem zadania było narysowanie wykresu funkcji $f(x) = e^{x} ln(1 + e^{-x})$ w dwóch różnych programach, a następnie porównanie wykresów z wyliczoną granicą w nieskończoności."
   ]
  },
  {
   "cell_type": "markdown",
   "metadata": {},
   "source": [
    "#### Wyniki\n",
    "\n",
    "$ \\lim_{{x \\to \\infty}} e^x \\ln(1 + e^{-x}) = \\lim_{{x \\to \\infty}} \\frac{\\ln(1 + e^{-x})}{e^{-x}} =  \\lim_{{x \\to \\infty}} \\frac{-e^{-x}}{(1+e^{-x})(-e^{-x})} =  \\lim_{{x \\to \\infty}} \\frac{1}{1+e^{-x}} = 1 $\n",
    "\n",
    "![image info](./images/zad2_jl.png)\n",
    "![image info](./images/zad2_wolfram.png)\n"
   ]
  },
  {
   "cell_type": "markdown",
   "metadata": {},
   "source": [
    "#### Wnioski\n",
    "Zadanie jest uznawane za źle uwarunkowane. Nawet niewielkie błędy spowodowane ograniczoną precyzją arytmetyki prowadzą do znacznych fluktuacji wyników, co jest zauważalne na wykresie dla wartości $x$ między $30$ a $40$. Dla wartości $x$ około $36$ funkcja na obu wykresach gwałtownie spada do zera. To zjawisko wynika z faktu, że dla dużych $x$ zachodzi przybliżenie $1 + x ≈ 1$, co skutkuje $ln(1 + x) ≈ 0$. Jest to niezgodne z rzeczywistością (i, co za tym idzie, z obliczoną przez nas granicą).\n",
    "\n",
    "Problem ten występuje w dwóch powszechnie stosowanych i wiarygodnych programach, co potwierdza tezę o złym uwarunkowaniu tego zadania."
   ]
  },
  {
   "cell_type": "markdown",
   "metadata": {},
   "source": [
    "***\n",
    "## Zadanie 3."
   ]
  },
  {
   "cell_type": "markdown",
   "metadata": {},
   "source": [
    "#### Opis Zadania\n",
    "Zadanie polegało na porównaniu dwóch metod rozwiązywania układów równań liniowych $Ax = b$ pod względem błędów w obliczeniach. Badanie obejmowało macierze $A$ o określonych własnościach:\n",
    "\n",
    "1. **Macierze Hilberta** \\\n",
    "Stopnie $n$ przyjmujące wartości z sekwencji $\\{1, 4, 7, 10, ..., 52\\}$.\n",
    "2. **Macierze losowe** \\\n",
    "Stopnie $n \\in \\{5, 10, 20\\}$ i współczynnikiem uwarunkowania $c \\in \\{ 1, 10, 10^3, 10^7, 10^{12}, 10^{16} \\} $.\n",
    "\n",
    "Do rozwiązania układów równań używano dwóch metod:\n",
    "\n",
    "1. **Metoda eliminacji Gaussa** \\\n",
    "$x = Ab$\n",
    "2. **Metoda z macierzą odwrotną** \\\n",
    "$x = \\text{inv}(A) \\cdot b$\n",
    "\n",
    "Na początku generowano wektor $b$ poprzez podstawienie wartości $x = (1, ..., 1)^T$ do wzoru $Ax = b$. Dzięki temu uzyskiwano wzorcowe $x$, co umożliwiało wyznaczenie błędów dla obu metod."
   ]
  },
  {
   "cell_type": "markdown",
   "metadata": {},
   "source": [
    "#### Wyniki\n",
    "\n",
    "Macierz Hilberta:\n",
    "| Wielkość | Rząd | Współczynnik uwarunkowania | Błąd Metody Gaussa | Błąd Macierzy odwrotnej |\n",
    "|------|------|-------------------|------------------|--------------------|\n",
    "| 1    | 1    | 1.0               | 0.0              | 0.0                |\n",
    "| 2    | 2    | 19.28147006790397 | 0.3071475584169753 | 0.3071475584169748 |\n",
    "| 3    | 3    | 524.0567775860644 | 0.38125383099933113 | 0.381253830999332  |\n",
    "| 4    | 4    | 15513.73873892924 | 0.41953891475305755 | 0.4195389147530581 |\n",
    "| 5    | 5    | 476607.2502422687 | 0.4433763869895056 | 0.4433763869897754 |\n",
    "| 6    | 6    | 1.49510586424659e7 | 0.4598223580900048 | 0.45982235810041816 |\n",
    "| 7    | 7    | 4.753673565921816e8 | 0.47193854478614516 | 0.47193854464773893 |\n",
    "| 8    | 8    | 1.5257575538072489e10 | 0.48128264147259203 | 0.4812826504848323 |\n",
    "| 9    | 9    | 4.931537556012197e11 | 0.4887361838475567 | 0.48873590121629773 |\n",
    "| 10   | 10   | 1.602441350036382e13 | 0.49483788867877526 | 0.4948399362295172 |\n",
    "| 11   | 10   | 5.222703245009594e14 | 0.49993670962971726 | 0.500096134186326  |\n",
    "| 12   | 11   | 1.760619121841585e16 | 0.5120560847629834 | 0.5396757497648286 |\n",
    "| 13   | 11   | 3.1905581877988255e18 | 0.5132192380957149 | 3.5717327555088345 |\n",
    "| 14   | 11   | 9.27636978936766e17 | 1.086457534475591 | 5.723671796732953  |\n",
    "| 15   | 12   | 3.67568286586649e17 | 3.1258537952116305 | 4.847438869932798  |\n",
    "| 16   | 12   | 7.063115212292111e17 | 35.450491051218 | 19.566695883780312 |\n",
    "| 17   | 12   | 8.07124989431416e17 | 8.963215243216949 | 6.883091679282024  |\n",
    "| 18   | 12   | 1.4135073701749765e18 | 6.700575476688344 | 16.130244647018774 |\n",
    "| 19   | 13   | 5.190132496359103e18 | 66.39030366996684 | 71.44698595999716  |\n",
    "| 20   | 13   | 1.3193976166344822e18 | 70.25375920097635 | 74.15157916514092 |\n",
    "\n",
    "Losowa macierz:\n",
    "| Wielkość | Wskaźnik Uwarunkowania | Rząd | Współczynnik uwarunkowania | Błąd Metody Gaussa | Błąd Macierzy odwrotnej |\n",
    "|------|-----------|---------|---------|-------------|-----------|\n",
    "| 5\t| 1.0\t| 5\t| 1.0000000000000004\t| 0.32268634029159465\t| 0.3226863402915947|\n",
    "| 5\t| 10.0\t| 5\t| 9.999999999999998\t| 0.9632109792366139\t| 0.9632109792366139|\n",
    "| 5\t| 1000.0\t| 5\t| 999.9999999999918\t| 0.9984798081909074\t| 0.9984798081909074|\n",
    "| 5\t| 1.0e7\t| 5\t| 9.99999999828954e6\t| 1.0000000093139296\t| 1.0000000093139296|\n",
    "| 5\t| 1.0e12\t| 5\t| 1.0000031822661598e12\t| 1.0000000000012037\t| 1.0000000000012037|\n",
    "| 5\t| 1.0e16\t| 4\t| 9.25080669240908e15\t| 1.0\t| 1.0|\n",
    "| 10\t| 1.0\t| 10\t| 1.0000000000000016\t| 0.16305631927440734\t| 0.1630563192744075|\n",
    "| 10\t| 10.0\t| 10\t| 10.000000000000004\t| 0.8619208856678274\t| 0.8619208856678274|\n",
    "| 10\t| 1000.0\t| 10\t| 999.9999999999167\t| 0.9996654543680095\t| 0.9996654543680095|\n",
    "| 10\t| 1.0e7\t| 10\t| 1.0000000001399769e7\t| 0.999999844499018\t| 0.999999844499018|\n",
    "| 10\t| 1.0e12\t| 10\t| 1.0000404116851804e12\t| 0.9999999999988204\t| 0.9999999999988203|\n",
    "| 10\t| 1.0e16\t| 9\t| 6.977083262832289e15\t| 1.0\t| 1.0|\n",
    "| 20\t| 1.0\t| 20\t| 1.0000000000000013\t| 0.20573054880527553\t| 0.20573054880527544|\n",
    "| 20\t| 10.0\t| 20\t| 9.999999999999993\t| 0.6163539312368534\t| 0.6163539312368536|\n",
    "| 20\t| 1000.0\t| 20\t| 999.9999999999989\t| 0.9996975287126516\t| 0.9996975287126516|\n",
    "| 20\t| 1.0e7\t| 20\t| 9.999999997355066e6\t| 1.0000000252645709\t| 1.0000000252645709|\n",
    "| 20\t| 1.0e12\t| 20\t| 1.0000330403806237e12\t| 0.9999999999999826\t| 0.9999999999999826|\n",
    "| 20\t| 1.0e16\t| 19\t| 8.849855710748998e15\t| 1.0\t| 1.0|\n"
   ]
  },
  {
   "cell_type": "markdown",
   "metadata": {},
   "source": [
    "#### Wnioski\n",
    "Wnioski z przeprowadzonych testów sugerują, że macierze Hilberta wykazują bardzo duże wskaźniki uwarunkowania, nawet dla relatywnie niewielkich rozmiarów. Dane zdają się wskazywać, że metoda eliminacji Gaussa zazwyczaj prowadzi do uzyskania bardziej precyzyjnych wyników dla tego rodzaju macierzy. Jednak obie metody skutkują ogromnymi błędami względnymi.\n",
    "\n",
    "W przypadku losowych macierzy o ustalonym wskaźniku uwarunkowania trudno zauważyć istotne różnice między oboma algorytmami. Błędy są prawie zawsze tego samego, niewielkiego rzędu. Co więcej, rzędy błędów są podobne dla macierzy o różnych rozmiarach, o ile ich współczynniki uwarunkowania są zbliżone.\n",
    "\n",
    "Ten stan rzeczy sugeruje, że algorytmy działają efektywnie. Rozwiązanie układu równań liniowych, w którym współczynniki są określone przez macierz Hilberta, jest zadaniem źle uwarunkowanym. Znając współczynnik uwarunkowania macierzy $A$, możemy oszacować błędy względne uzyskanych rozwiązań."
   ]
  },
  {
   "cell_type": "markdown",
   "metadata": {},
   "source": [
    "***\n",
    "## Zadanie 4."
   ]
  },
  {
   "cell_type": "markdown",
   "metadata": {},
   "source": [
    "#### Opis zadania\n",
    "W zadaniu rozpatrywany jest złośliwy wielomian Wilkinsona:\n",
    "\n",
    "$$f(x) = (x-1)(x-2)(x-3)...(x-20)$$\n",
    "\n",
    "(a) Wyznaczanie pierwiastków za pomocą Pakietu Polynomials:\\\n",
    "W tym podpunkcie skoncentrujemy się na zbadaniu skuteczności pakietu Polynomials w wyznaczaniu pierwiastków wielomianów. Wykorzystamy funkcje dostępne w pakiecie do identyfikacji pierwiastków różnych wielomianów i ocenimy, jak dobrze radzi sobie z tym zadaniem.\n",
    "\n",
    "(b) Eksperyment Wilkinsona:\\\n",
    "Eksperyment Wilkinsona polega na marginalnym zaburzeniu jednego ze współczynników wielomianu. W naszym przypadku, powtórzymy ten eksperyment, gdzie wprowadzimy niewielką zmianę w jednym z współczynników wielomianu, a następnie sprawdzimy, jak pakiet Polynomials reaguje na to zaburzenie. Analizujemy, czy niewielka zmiana w współczynniku prowadzi do istotnych różnic w pierwiastkach wyznaczonych przez pakiet."
   ]
  },
  {
   "cell_type": "markdown",
   "metadata": {},
   "source": [
    "#### Wyniki\n",
    "\n",
    "Wyniki w tabelach są wartościami bezwzględnymi dla większej przejrzystości danych.\n",
    "\n",
    "Wyznaczanie pierwiastków za pomocą Pakietu Polynomials:\n",
    "| $k$ | $z_k$                 | $P(z_k)$               | $p(z_k)$               | $z_k -k$          |\n",
    "|-----|----------------|---------------------|---------------------|-----------------------------------|\n",
    "| 1   | 0.9999999999998084 | 23323.616390897252 | 24347.616390897056              | 1.9162449405030202e-13           |\n",
    "| 2   | 2.0000000000114264 | 64613.550791712885 | 80997.5507918065                | 1.1426415369442111e-11           |\n",
    "| 3   | 2.9999999998168487 | 18851.098984644806 | 101795.09897958105              | 1.8315127192636282e-10          |\n",
    "| 4   | 3.999999983818672  | 2.6359390809003003e6 | 2.37379508196076e6              | 1.6181327833209025e-8           |\n",
    "| 5   | 5.000000688670983  | 2.3709842874839526e7 | 2.306984278668964e7              | 6.88670983350903e-7             |\n",
    "| 6   | 5.999988371602095  | 1.2641076289358065e8 | 1.2508366146559621e8             | 1.162839790502801e-5            |\n",
    "| 7   | 7.000112910766231  | 5.2301629899144447e8 | 5.2055763533357024e8             | 0.00011291076623098917          |\n",
    "| 8   | 7.999279406281878  | 1.798432141726085e9 | 1.7942387274786062e9             | 0.0007205937181220534           |\n",
    "| 9   | 9.003273831140774  | 5.121881552672067e9 | 5.115158339932115e9             | 0.003273831140774064            |\n",
    "| 10  | 9.989265687778465  | 1.4157542666785017e10 | 1.4147337313301882e10           | 0.010734312221535092           |\n",
    "| 11  | 11.027997558569794 | 3.586354765112257e10 | 3.584844758752149e10            | 0.027997558569794023           |\n",
    "| 12  | 11.94827395840048  | 8.510931555828575e10 | 8.508835580052173e10            | 0.051726041599520656           |\n",
    "| 13  | 13.082031971969954 | 2.2136146301419052e11 | 2.2133136429365445e11           | 0.08203197196995404            |\n",
    "| 14  | 13.906800565193148 | 3.812024574451268e11 | 3.811638891032201e11            | 0.09319943480685211            |\n",
    "| 15  | 15.081439299377482 | 8.809029239560208e11 | 8.808498064028993e11            | 0.0814392993774824             |\n",
    "| 16  | 15.942404318674466 | 1.6747434633806333e12 | 1.6746775852847332e12           | 0.05759568132553383            |\n",
    "| 17  | 17.026861831476396 | 3.3067827086376123e12 | 3.3066967643946914e12           | 0.026861831476395537           |\n",
    "| 18  | 17.99048462339055  | 6.166202940769282e12 | 6.16609562105193e12             | 0.009515376609449788           |\n",
    "| 19  | 19.001981084996206 | 1.406783619602919e13 | 1.4067702719729383e13           | 0.001981084996206306           |\n",
    "| 20  | 19.999803908064397 | 3.284992217648231e13 | 3.2849758339688676e13           | 0.00019609193560299332         |\n",
    "\n",
    "Eksperyment Wilkinsona:\n",
    "| $k$ | $z_k$ | $P(z_k)$ | $p(z_k)$ | $z_k - k$ |\n",
    "|----|---|------|---------|----------------|\n",
    "| 1|        0.9999999999999805 + 0.0im|   2168.9361669986724|  2168.9361669986324| 1.9539925233402755e-14 |\n",
    "| 2|        1.9999999999985736 + 0.0im|  29948.438957395843| 13564.438957442584| 1.4264145420384011e-12 |\n",
    "| 3 |       3.000000000105087 + 0.0im| 239010.53520956426|  48546.53517157824|  1.0508705017286957e-10 |\n",
    "| 4  |      3.9999999950066143 + 0.0im| 939293.8049425513| 1.201437802324579e6|   4.993385704921138e-9 |\n",
    "| 5   |     5.000000034712704 + 0.0im|   7.44868039679552e6| 4.333159313828003e6| 3.4712703822492585e-8 |\n",
    "| 6    |    6.000005852511414 + 0.0im| 1.4689332508961653e7| 5.5871717686950475e7| 5.852511414161654e-6 |\n",
    "| 7     |   6.999704466216799 + 0.0im| 5.817946400915084e7| 1.2508396452132258e9| 0.00029553378320112955 |\n",
    "| 8 |       8.007226654064777 + 0.0im| 1.3954205929609105e8| 1.742241327643653e10| 0.0072266540647767386 |\n",
    "| 9  |      8.917396943382494 + 0.0im| 2.459617755654851e8| 1.3471875977601944e11| 0.082603056617506 |\n",
    "| 10  |    10.09529034477879 - 0.6432770896263527im| 2.291018560461982e9| 1.4798961582209915e12| 0.650296596828102 |\n",
    "| 11  |    10.09529034477879 + 0.6432770896263527im| 2.291018560461982e9| 1.4798961582209915e12| 1.110092326920887 |\n",
    "| 12   |   11.793588728372308 - 1.6522535463872843im| 2.077690789102519e10| 3.2933037979480902e13| 1.6650968123818863 |\n",
    "| 13 |     11.793588728372308 + 1.6522535463872843im| 2.077690789102519e10| 3.2933037979480902e13| 2.0458176697496047 |\n",
    "| 14  |    13.99233053734825 - 2.5188196443048287im| 9.390730597798799e10| 9.54583157311972e14| 2.5188313205122075 |\n",
    "| 15   |   13.99233053734825 + 2.5188196443048287im| 9.390730597798799e10| 9.54583157311972e14| 2.7129043747424584 |\n",
    "| 16  |    16.73073008036981 - 2.8126272986972136im| 9.592356563898315e11| 2.7421143234744428e16| 2.906000476898456 |\n",
    "| 17   |   16.73073008036981 + 2.8126272986972136im| 9.592356563898315e11| 2.7421143234744428e16| 2.8254873227453055 |\n",
    "| 18  |    19.50243895868367 - 1.9403320231930836im| 5.050467401799687e12| 4.2524516249528954e17| 2.4540193937292005 |\n",
    "| 19   |   19.50243895868367 + 1.9403320231930836im| 5.050467401799687e12| 4.2524516249528954e17| 2.004328632592893 |\n",
    "| 20  |    20.84690887410499 + 0.0im| 4.858653129933677e12| 1.3743527553999101e18| 0.8469088741049902 |\n"
   ]
  },
  {
   "cell_type": "markdown",
   "metadata": {},
   "source": [
    "#### Wnioski\n",
    "\n",
    "(a) Wyznaczanie pierwiastków za pomocą Pakietu Polynomials:\n",
    "\n",
    "Jak można zauważyć w przedstawionych wynikach, obliczone pierwiastki nie są całkowicie dokładne, ale są bardzo bliskie rzeczywistym wartościom. Co ciekawe rzeczywiste pierwiastki nie zerują wielomianu $P(x)$, ponieważ z powodu ograniczeń arytmetyki Float64, wielomian w postaci naturalnej jest przechowywany niedokładnie.\\\n",
    "Niektóre współczynniki wielomianu dla niższych potęg $x$ są ogromnymi liczbami, co powoduje trudność w ich precyzyjnym zapisie bez utraty znaczącej liczby cyfr. Informacje zawarte w tabeli dotyczące oddalenia od rzeczywistych pierwiastków ukazują istotę zjawiska znanej jako \"złośliwość wielomianu\". Nawet niewielkie odchylenie od rzeczywistych pierwiastków prowadzi do znacznych wzrostów wartości funkcji (nawet rzędu $10^{23}$). Wskazuje to na to, że problem wyznaczania pierwiastków wielomianu Wilkinsona jest źle uwarunkowany, co sprawia, że mała niepewność w danych może znacząco wpłynąć na wyniki obliczeń.\n",
    "\n",
    "(b) Eksperyment Wilkinsona:\n",
    "\n",
    "Dane zawarte w drugiej tabeli potwierdzają wcześniejsze przypuszczenia z podpunktu (a). Złe uwarunkowanie problemu, związanego z wyznaczaniem pierwiastków wielomianu Wilkinsona, prowadzi do sytuacji, w której niewielkie zakłócenie może skutkować pojawieniem się rozwiązań zespolonych. Co więcej, wartości funkcji dla tych \"pierwiastków\" są bardzo duże, co świadczy o znacznym wzroście wartości funkcji nawet przy niewielkich perturbacjach danych. Ten efekt wynika z niestabilności numerycznej spowodowanej złym uwarunkowaniem problemu, co sprawia, że nawet niewielkie zaburzenia danych wejściowych mogą wprowadzić duże błędy w wynikach obliczeń."
   ]
  },
  {
   "cell_type": "markdown",
   "metadata": {},
   "source": [
    "***\n",
    "## Zadanie 5."
   ]
  },
  {
   "cell_type": "markdown",
   "metadata": {},
   "source": [
    "#### Opis Zadania\n",
    "Zadanie polegało na obliczeniu czterdziestu pierwszych wyrazów ciągu $p_n$ zdefiniowanego równaniem rekurencyjnym:\n",
    "\n",
    "$$ p_{n+1} = p_n + r \\cdot p_n \\cdot (1 - p_n) $$\n",
    "\n",
    "dla początkowego warunku $ p_0 = 0.01 $ i $ r = 3 $, przy użyciu trzech różnych reprezentacji arytmetycznych:\n",
    "\n",
    "1. W precyzji Float32\n",
    "2. W precyzji Float32, przy czym $ p_{10} $ był obcinany do trzech miejsc po przecinku, a następnie kolejny wyraz był obliczany na podstawie tej obciętej wartości\n",
    "3. W precyzji Float64"
   ]
  },
  {
   "cell_type": "markdown",
   "metadata": {},
   "source": [
    "#### Wyniki\n",
    "|n   | Float32              | Float32 z obcięciem  | Float64                   |\n",
    "|----|----------------------|----------------------|---------------------------|\n",
    "|0   | 0.01                 | 0.01                 | 0.01                      |\n",
    "|1   | 0.0397               | 0.0397               | 0.0397                    |\n",
    "|2   | 0.15407173           | 0.15407173           | 0.15407173000000002       |\n",
    "|3   | 0.5450726            | 0.5450726            | 0.5450726260444213        |\n",
    "|4   | 1.2889781            | 1.2889781            | 1.2889780011888006        |\n",
    "|5   | 0.1715188            | 0.1715188            | 0.17151914210917552       |\n",
    "|6   | 0.5978191            | 0.5978191            | 0.5978201201070994        |\n",
    "|7   | 1.3191134            | 1.3191134            | 1.3191137924137974        |\n",
    "|8   | 0.056273222          | 0.056273222          | 0.056271577646256565      |\n",
    "|9   | 0.21559286           | 0.21559286           | 0.21558683923263022       |\n",
    "|10  | 0.7229306            | **0.722**            | 0.722914301179573         |\n",
    "|11  | 1.3238364            | 1.3241479            | 1.3238419441684408        |\n",
    "|12  | 0.037716985          | 0.036488414          | 0.03769529725473175       |\n",
    "|13  | 0.14660022           | 0.14195944           | 0.14651838271355924       |\n",
    "|14  | 0.521926             | 0.50738037           | 0.521670621435246         |\n",
    "|15  | 1.2704837            | 1.2572169            | 1.2702617739350768        |\n",
    "|16  | 0.2395482            | 0.28708452           | 0.24035217277824272       |\n",
    "|17  | 0.7860428            | 0.9010855            | 0.7881011902353041        |\n",
    "|18  | 1.2905813            | 1.1684768            | 1.2890943027903075        |\n",
    "|19  | 0.16552472           | 0.577893             | 0.17108484670194324       |\n",
    "|20  | 0.5799036            | 1.3096911            | 0.5965293124946907        |\n",
    "|21  | 1.3107498            | 0.09289217           | 1.3185755879825978        |\n",
    "|22  | 0.088804245          | 0.34568182           | 0.058377608259430724      |\n",
    "|23  | 0.3315584            | 1.0242395            | 0.22328659759944824       |\n",
    "|24  | 0.9964407            | 0.94975823           | 0.7435756763951792        |\n",
    "|25  | 1.0070806            | 1.0929108            | 1.315588346001072         |\n",
    "|26  | 0.9856885            | 0.7882812            | 0.07003529560277899       |\n",
    "|27  | 1.0280086            | 1.2889631            | 0.26542635452061003       |\n",
    "|28  | 0.9416294            | 0.17157483           | 0.8503519690601384        |\n",
    "|29  | 1.1065198            | 0.59798557           | 1.2321124623871897        |\n",
    "|30  | 0.7529209            | 1.3191822            | 0.37414648963928676       |\n",
    "|31  | 1.3110139            | 0.05600393           | 1.0766291714289444        |\n",
    "|32  | 0.0877831            | 0.21460639           | 0.8291255674004515        |\n",
    "|33  | 0.3280148            | 0.7202578            | 1.2541546500504441        |\n",
    "|34  | 0.9892781            | 1.3247173            | 0.29790694147232066       |\n",
    "|35  | 1.021099             | 0.034241438          | 0.9253821285571046        |\n",
    "|36  | 0.95646656           | 0.13344833           | 1.1325322626697856        |\n",
    "|37  | 1.0813814            | 0.48036796           | 0.6822410727153098        |\n",
    "|38  | 0.81736827           | 1.2292118            | 1.3326056469620293        |\n",
    "|39  | 1.2652004            | 0.3839622            | 0.0029091569028512065     |\n",
    "|40  | 0.25860548           | 1.093568             | 0.011611238029748606      |"
   ]
  },
  {
   "cell_type": "markdown",
   "metadata": {},
   "source": [
    "#### Wnioski\n",
    "Wyniki analizy wskazują, że w początkowych iteracjach obie arytmetyki generują zbliżone rezultaty. Jednak w miarę postępu iteracji, szczególnie w okolicach 19. kroku, model z obcięciem zaczyna wyraźnie odbiegać od pozostałych dwóch. Około 22. iteracji także modele bez przycięcia zaczynają się rozbiegać.\n",
    "\n",
    "Zjawisko to jest rezultatem szybko narastającej kumulacji błędów podczas obliczania kolejnych wyrazów ciągu. Kumulacja ta wynika między innymi z operacji podnoszenia poprzednich wartości do kwadratu. Pierwsze wyrazy są obliczane z wysoką precyzją, ale późniejsze są zapamiętywane z uwzględnieniem zaokrąglenia wynikającego z ograniczonej precyzji. Dokładność kolejnych wyrazów staje się trudna do oszacowania ze względu na narastający błąd.\n",
    "\n",
    "Proces wyznaczania kolejnych wyrazów ciągu $ p_n $ jest niestabilny, ponieważ drobne błędy początkowe mają tendencję do drastycznego wpływania na precyzję dalszych wyników. Obserwacja, że Float32 bez przycięcia pozostaje zgodny z Float64 dłużej niż jego wersja z obcięciem, sugeruje, że zarówno czas, w którym błąd zostaje popełniony, jak i jego wielkość, wpływają na tempo drastycznej utraty dokładności. Warto zauważyć, że nawet arytmetyka Float64 w pewnym momencie zaczyna manifestować błędy związane z precyzją, co oznacza, że wyniki dla większych $ n $ są bardziej godne zaufania, ale niestety nie można całkowicie wykluczyć wpływu błędów związanych z precyzją na ostateczne wyniki."
   ]
  },
  {
   "cell_type": "markdown",
   "metadata": {},
   "source": [
    "***\n",
    "## Zadanie 6."
   ]
  },
  {
   "cell_type": "markdown",
   "metadata": {},
   "source": [
    "#### Opis Zadania\n",
    "Rozważane są ciągi rekurencyjne, których kolejne wyrazy są określone za pomocą wzoru rekurencyjnego:\n",
    "\n",
    "$ x_{n+1}=x_{n}^{2}+c $\n",
    "\n",
    "Zbadajmy zachowanie tych ciągów dla siedmiu przypadków w arytmetyce Float64:\n",
    "1.  $c = −2$ i $x_0 = 1$\n",
    "2.  $c = −2$ i $x_0 = 2$\n",
    "3.  $c = −2$ i $x_0 = 1.99999999999999$\n",
    "4.  $c = −1$ i $x_0 = 1$\n",
    "5.  $c = −1$ i $x_0 = −1$\n",
    "6.  $c = −1$ i $x_0 = 0.75$\n",
    "7.  $c = −1$ i $x_0 = 0.25$"
   ]
  },
  {
   "cell_type": "markdown",
   "metadata": {},
   "source": [
    "#### Wyniki\n",
    "\n",
    "![image info](./images/-2.0_1.0.png)\n",
    "![image info](./images/-2.0_1.9.png)\n",
    "![image info](./images/-2.0_2.0.png)\n",
    "![image info](./images/-1.0_1.0.png)\n",
    "![image info](./images/-1.0_-1.0.png)\n",
    "![image info](./images/-1.0_0.75.png)\n",
    "![image info](./images/-1.0_0.25.png)"
   ]
  },
  {
   "cell_type": "markdown",
   "metadata": {},
   "source": [
    "#### Wnioski\n",
    "\n",
    "Proces generowania kolejnych elementów ciągów, opisanych za pomocą reguł rekurencyjnych, może wykazywać zróżnicowaną stabilność w zależności od przyjętych parametrów. Stabilność ta może przyjmować różne stopnie, począwszy od całkowitej stabilności (na przykład dla początkowej wartości $x_0 = 1$ przy obu wartościach $c$), poprzez stopniowe stabilizowanie się (np. dla $c = -1$ i $x_0$ równego $0.75$ lub $0.25$), aż do niestabilności (jak w przypadku $c = -2$ i $x_0 = 1.99...$, czy też w przypadkach opisanych w zadaniu 5).\n",
    "\n",
    "Warto zauważyć, że proces stopniowej stabilizacji może również zależeć od konkretnych wartości parametrów, przykładowo w przypadku $c = -1$ stabilizacja może następować szybciej dla $x_0 = 0.25$ niż dla $x_0 = 0.75$. To oznacza, że istotny jest nie tylko sam fakt stabilizacji, lecz także tempo, z jakim to zachodzi, co wymaga dokładnego doboru odpowiednich wartości parametrów.\n",
    "\n",
    "Podsumowując, dla uzyskania rzetelnych i praktycznych wyników w procesie generowania ciągów rekurencyjnych, istotne jest dokładne dostosowanie parametrów, biorąc pod uwagę ich wpływ na stabilność oraz tempo stabilizacji procesu."
   ]
  }
 ],
 "metadata": {
  "language_info": {
   "name": "python"
  }
 },
 "nbformat": 4,
 "nbformat_minor": 2
}
