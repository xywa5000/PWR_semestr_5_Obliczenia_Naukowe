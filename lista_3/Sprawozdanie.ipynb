{
 "cells": [
  {
   "cell_type": "markdown",
   "metadata": {},
   "source": [
    "Krzysztof Dobrucki\\\n",
    "Numer albumu 268507\\\n",
    "Informatyka Algorytmiczna\\\n",
    "Semestr Zimowy 2023/2024\\\n",
    "Politechnika Wrocławska\\\n",
    "25.11.2023r."
   ]
  },
  {
   "cell_type": "markdown",
   "metadata": {},
   "source": [
    "***\n",
    "# Lista 3\n",
    "## Obliczenia Naukowe\n",
    "***"
   ]
  },
  {
   "cell_type": "markdown",
   "metadata": {},
   "source": [
    "## Zadania 1., 2. i 3."
   ]
  },
  {
   "cell_type": "markdown",
   "metadata": {},
   "source": [
    "#### Opis zadania\n",
    "\n",
    "W pierwszych trzech zadaniach konieczne było stworzenie implementacji algorytmów przybliżających miejsca zerowe funkcji. Zastosowane algorytmy to:\n",
    "\n",
    "- **Metoda Bisekcji - bisection**\n",
    "- **Metoda Newtona (Stycznych) - newton**\n",
    "- **Metoda Siecznych - secant**\n",
    "\n",
    "Wszystkie metody zostały zaimplementowane w module *find_zero_place.jl*, a testy do nich znajdują się w pliku *fzp_test.jl*."
   ]
  },
  {
   "cell_type": "markdown",
   "metadata": {},
   "source": [
    "#### Algorytm Bisekcji - opis\n",
    "\n",
    "Metoda bisekcji jest prostym, ale skutecznym algorytmem przybliżania miejsc zerowych funkcji. Podstawowy koncept tej metody opiera się na założeniu, że jeśli funkcja jest ciągła w przedziale początkowym i przyjmuje wartości o przeciwnych znakach na jego końcach, to musi istnieć miejsce zerowe w tym przedziale.\n",
    "\n",
    "Oto kroki, jakie wykonuje metoda bisekcji:\n",
    "\n",
    "1. **Określenie Początkowego Przedziału:**\n",
    "   - Wybiera się przedział początkowy, w którym przypuszcza się istnienie miejsca zerowego. Ważne jest, aby funkcja przyjmowała wartości o przeciwnych znakach na końcach tego przedziału. \n",
    "2. **Podział Przedziału:**\n",
    "   - Środek przedziału jest obliczany jako średnia arytmetyczna wartości krańcowych.\n",
    "   - Wyznacza się wartość funkcji w punkcie środkowym. \n",
    "3. **Analiza Przedziałów:**\n",
    "   - Jeśli wartość funkcji w punkcie środkowym jest dostatecznie bliska zeru (czyli spełnia pewne kryterium zbieżności), algorytm kończy działanie.\n",
    "   - W przeciwnym razie, określa się, w którym z dwóch podprzedziałów (lewy lub prawy) znajduje się miejsce zerowe na podstawie znaku wartości funkcji w punkcie środkowym. \n",
    "4. **Powtarzanie Procesu:**\n",
    "   - Proces ten jest powtarzany, dzieląc kolejno wybrany podprzedział na pół, aż do znalezienia miejsca zerowego z wymaganą dokładnością. \n",
    "   \n",
    "Metoda bisekcji jest iteracyjna i gwarantuje zbieżność do rzeczywistego miejsca zerowego w miarę kolejnych iteracji. Jej prostota sprawia, że jest popularna w praktyce, szczególnie gdy inne metody są trudne do zastosowania lub nie zapewniają stabilnych wyników."
   ]
  },
  {
   "cell_type": "markdown",
   "metadata": {},
   "source": [
    "#### Algorytm Bisekcji - wizualizacja\n",
    "\n",
    "Ustalamy przedział $(A, B)$, następnie dzielimy go na pół i sprawdzamy w której połwie znajduje się szukane miejsce zerowe (przez różnicę znaków). W naszym przypadku uzyskujemy przedział $(C, D)$. Powtarzając tę procedurę uzyskamy kolejno przedziały $(E, F)$ i $(G, H)$. powtarzamy ten algorytm do uzyskania wyniku z satysfakcjonującym przybliżeniem.\n",
    "\n",
    "![image info](./images/photo_bisekcja.png)"
   ]
  },
  {
   "cell_type": "markdown",
   "metadata": {},
   "source": [
    "#### Algorytm Bisekcji - parametry\n",
    "\n",
    "Parametry Algorytmu Bisekcji:\n",
    "\n",
    "- **f:** Funkcja $f(x)$ reprezentująca równanie, dla którego szukamy miejsca zerowego. Jest to anonimowa funkcja, która musi być ciągła na danym przedziale.\n",
    "\n",
    "- **a, b:** Końce przedziału początkowego, w którym przypuszcza się istnienie miejsca zerowego. Funkcja $f(x)$ musi przyjmować wartości o przeciwnych znakach na końcach tego przedziału.\n",
    "\n",
    "- **delta:** Parametr określający tolerancję dla różnicy między kolejnymi przybliżeniami miejsca zerowego. Proces iteracyjny kończy się, gdy ta różnica stanie się dostatecznie mała.\n",
    "\n",
    "- **epsilon:** Parametr określający tolerancję dla wartości funkcji w przybliżonym miejscu zerowym. Proces iteracyjny kończy się, gdy wartość funkcji w przybliżonym miejscu zerowym stanie się dostatecznie bliska zeru.\n",
    "\n",
    "Dane Wynikowe Algorytmu Bisekcji:\n",
    "\n",
    "- **r:** Przybliżone miejsce zerowe równania $f(x) = 0$ obliczone przez algorytm.\n",
    "\n",
    "- **v:** Wartość funkcji $f(r)$ w przybliżonym miejscu zerowym.\n",
    "\n",
    "- **it:** Liczba wykonanych iteracji. Oznacza, ile razy algorytm podzielił przedział na pół w poszukiwaniu miejsca zerowego.\n",
    "\n",
    "- **err:** Sygnalizacja błędu:\n",
    "  - 0: Brak błędu. Algorytm zakończył się pomyślnie, znalazł przybliżone miejsce zerowe.\n",
    "  - 1: Błąd. Funkcja nie zmienia znaku na przedziale $[a, b]$, co uniemożliwia zastosowanie metody bisekcji. Algorytm nie może znaleźć miejsca zerowego w tej sytuacji."
   ]
  },
  {
   "cell_type": "markdown",
   "metadata": {},
   "source": [
    "#### Algorytm Newtona - opis\n",
    "\n",
    "Metoda Newtona, znana również jako metoda stycznych, to iteracyjny algorytm służący do znajdowania miejsc zerowych funkcji.\n",
    "\n",
    "1. **Punkt Początkowy:**\n",
    "   - Wybiera się początkowy punkt $x_0$ (punkt, dla którego liczymy pierwszą styczną). Często jest to początek lub koniec przedziału, w którym przypuszcza się istnienie miejsca zerowego.\n",
    "2. **Iteracyjne Obliczenia:**\n",
    "   - Oblicza się pierwszą styczną do funkcji $f(x)$ w punkcie $x_0$.\n",
    "   - Przecięcie tej stycznej z osią $OX$ daje nowy punkt $x_1$.\n",
    "   - Proces ten powtarza się iteracyjnie, obliczając kolejne styczne i przecięcia z osią $OX$.\n",
    "3. **Warunki Konieczne:**\n",
    "   - Aby metoda była skuteczna, funkcja $f(x)$ musi spełniać następujące warunki:\n",
    "     - W danym przedziale musi znajdować się dokładnie jeden pierwiastek.\n",
    "     - Funkcja musi mieć różne znaki na końcach przedziału.\n",
    "     - Pierwsza i druga pochodna funkcji muszą mieć stały znak w tym przedziale.\n",
    "4. **Wzór Iteracyjny:**\n",
    "   - Iteracyjny wzór metody Newtona to: $x_{n+1} = x_n - \\frac{f(x_n)}{f'(x_n)}$, gdzie $f'(x_n)$ to pierwsza pochodna funkcji w punkcie $x_n$.\n",
    "5. **Kryteria Zakończenia:**\n",
    "   - Proces iteracyjny kończy się, gdy różnica między kolejnymi przybliżeniami miejsc zerowych staje się wystarczająco mała lub gdy wartość funkcji w przybliżonym miejscu zerowym staje się wystarczająco bliska zeru.\n",
    "\n",
    "W metodzie Newtona konieczna jest znajomość pierwszej pochodnej funkcji. W praktyce oznacza to, że funkcja musi być różniczkowalna na danym przedziale. Skuteczność metody zależy od odpowiedniego wyboru punktu początkowego. Błędny wybór może prowadzić do rozbieżności. Ponadto funkcja musi spełniać pewne warunki w danym przedziale, co może ograniczać jej zastosowanie w pewnych przypadkach."
   ]
  },
  {
   "cell_type": "markdown",
   "metadata": {},
   "source": [
    "#### Algorytm Newtona - wizualizacja\n",
    "\n",
    "Ustalamy początkowy punkt $A$, następnie liczmy $f(A) = B$ oraz znajdujemy prostą styczną do $f(x)$ w punkcie $B$ nazwijmy ją $lineB$. Punkt przecięcia prostej z $OX$ to punkt $C$, w którym zaczniemy procedurę od nowa uzyskując:\n",
    "\n",
    "$f(A) = B$ -> $lineB(0) = C$\n",
    "\n",
    "$f(C) = D$ -> $lineD(0) = E$\n",
    "\n",
    "$f(E) = F$ -> $...$\n",
    "\n",
    "![image info](./images/photo_styczna.png)"
   ]
  },
  {
   "cell_type": "markdown",
   "metadata": {},
   "source": [
    "#### Algorytm Newtona - parametry\n",
    "\n",
    "Parametry Algorytmu Newtona:\n",
    "\n",
    "- **f:** Funkcja $f(x)$ reprezentująca równanie, dla którego szukamy miejsca zerowego. Jest to anonimowa funkcja.\n",
    "\n",
    "- **pf:** Pochodna funkcji $f(x)$ oznaczona jako $f'(x)$, również zadana jako anonimowa funkcja.\n",
    "\n",
    "- **x0:** Przybliżenie początkowe, czyli punkt startowy dla iteracyjnego procesu Newtona. To może być początkowy punkt, w którym zakładamy, że znajduje się miejsce zerowe.\n",
    "\n",
    "- **delta:** Parametr określający tolerancję dla różnicy między kolejnymi przybliżeniami miejsc zerowych. Proces iteracyjny kończy się, gdy ta różnica stanie się dostatecznie mała.\n",
    "\n",
    "- **epsilon:** Parametr określający tolerancję dla wartości funkcji w przybliżonym miejscu zerowym. Proces iteracyjny kończy się, gdy wartość funkcji w przybliżonym miejscu zerowym stanie się dostatecznie bliska zeru.\n",
    "\n",
    "- **maxit:** Maksymalna dopuszczalna liczba iteracji. Jeśli liczba iteracji przekroczy tę wartość, algorytm zakończy działanie z błędem.\n",
    "\n",
    "Dane Wynikowe Algorytmu Newtona:\n",
    "\n",
    "- **r:** Przybliżone miejsce zerowe równania $f(x) = 0$, obliczone przez algorytm Newtona.\n",
    "\n",
    "- **v:** Wartość funkcji $f(r)$ w przybliżonym miejscu zerowym.\n",
    "\n",
    "- **it:** Liczba wykonanych iteracji. Oznacza, ile razy algorytm obliczył kolejne przybliżenia miejsc zerowych.\n",
    "\n",
    "- **err:** Sygnalizacja błędu:\n",
    "  - 0: Brak błędu. Algorytm zakończył się pomyślnie, znalazł przybliżone miejsce zerowe.\n",
    "  - 1: Błąd. Nie osiągnięto wymaganej dokładności w maksymalnej liczbie iteracji.\n",
    "  - 2: Błąd. Pochodna funkcji była bliska zeru, co może prowadzić do błędów numerycznych."
   ]
  },
  {
   "cell_type": "markdown",
   "metadata": {},
   "source": [
    "#### Algorytm Siecznych - opis\n",
    "\n",
    "Metoda siecznych umożliwia przybliżenie wykresu funkcji za pomocą kolejnych prostych, co pozwala na zbliżanie się do szukanego zera funkcji.\n",
    "\n",
    "1. **Początkowe Sieczne:**\n",
    "   - Początkowa sieczna zaczyna się w punkcie $(x_0, f(x_0))$ i kończy w punkcie $(x_1, f(x_1))$, gdzie $x_1$ jest wybranym punktem różnym od $x_0$.\n",
    "2. **Obliczenia Iteracyjne:**\n",
    "   - W każdej iteracji obliczana jest nowa sieczna na podstawie punktów przecięcia poprzedniej siecznej z osią $OX$.\n",
    "   - Punkt przecięcia tej siecznej z osią $OX$ daje nowy punkt $x_2$.\n",
    "3. **Kryteria Zakończenia:**\n",
    "   - Proces iteracyjny kontynuuje się, aż różnica między kolejnymi przybliżeniami miejsc zerowych stanie się dostatecznie mała.\n",
    "4. **Wzór Iteracyjny:**\n",
    "   - Wzór iteracyjny dla metody siecznych to $x_{n+1} = x_n - \\frac{f(x_n) \\cdot (x_n - x_{n-1})}{f(x_n) - f(x_{n-1})}$.\n",
    "5. **Warunki Funkcji:**\n",
    "   - Funkcja musi spełniać następujące warunki:\n",
    "     - Dwukrotnie różniczkowalna na badanym przedziale.\n",
    "     - Szukany pierwiastek musi być nieparzystej krotności.\n",
    "\n",
    "Funkcja musi być dwukrotnie różniczkowalna, co może być ograniczeniem w pewnych przypadkach. Metoda jest najbardziej efektywna, gdy szukany pierwiastek jest nieparzystej krotności. Warto pamiętać, że skuteczność metody zależy od odpowiedniego wyboru punktów początkowych, co może wymagać pewnej intuicji."
   ]
  },
  {
   "cell_type": "markdown",
   "metadata": {},
   "source": [
    "#### Algorytm Siecznych - wizualizacja\n",
    "\n",
    "Ustalamy początkowy przedział $(A, B)$, następnie liczmy $f(A) = D$ oraz $f(B) = C$. Prowadzimy prostą przez uzyskane punkty (prosta $g$ na rysunku), a następnie znajsujemy jej punkt przecięcia z $OX$, to jest nasz punkt $E$. Wyliczamy dla niego $f(E) = F$. Przez tak znaleziony punkt i jeden z początkowych prowadzimy kolejną prostą (prosta $h$ na rysunku). Procedurę powtarzamy do uzyskania satysfakcjonującego przybliżenia.\n",
    "\n",
    "![image info](./images/photo_sieczna.png)"
   ]
  },
  {
   "cell_type": "markdown",
   "metadata": {},
   "source": [
    "#### Algorytm Siecznych - parametry\n",
    "\n",
    "Parametry Algorytmu Siecznych:\n",
    "\n",
    "- **f:** Funkcja $f(x)$ reprezentująca równanie, dla którego szukamy miejsca zerowego. Jest to anonimowa funkcja.\n",
    "\n",
    "- **x0, x1:** Przybliżenia początkowe, czyli dwa różne punkty startowe dla iteracyjnego procesu metody siecznych.\n",
    "\n",
    "- **delta:** Parametr określający tolerancję dla różnicy między kolejnymi przybliżeniami miejsc zerowych. Proces iteracyjny kończy się, gdy ta różnica stanie się dostatecznie mała.\n",
    "\n",
    "- **epsilon:** Parametr określający tolerancję dla wartości funkcji w przybliżonym miejscu zerowym. Proces iteracyjny kończy się, gdy wartość funkcji w przybliżonym miejscu zerowym staje się dostatecznie bliska zeru.\n",
    "\n",
    "- **maxit:** Maksymalna dopuszczalna liczba iteracji. Jeśli liczba iteracji przekroczy tę wartość, algorytm zakończy działanie z błędem.\n",
    "\n",
    "Dane Wynikowe Algorytmu Siecznych:\n",
    "\n",
    "- **r:** Przybliżone miejsce zerowe równania $f(x) = 0$, obliczone przez algorytm siecznych.\n",
    "\n",
    "- **v:** Wartość funkcji $f(r)$ w przybliżonym miejscu zerowym.\n",
    "\n",
    "- **it:** Liczba wykonanych iteracji. Oznacza, ile razy algorytm obliczył kolejne przybliżenia miejsc zerowych.\n",
    "\n",
    "- **err:** Sygnalizacja błędu:\n",
    "  - 0: Brak błędu. Algorytm zakończył się pomyślnie, znalazł przybliżone miejsce zerowe.\n",
    "  - 1: Błąd. Nie osiągnięto wymaganej dokładności w maksymalnej liczbie iteracji."
   ]
  },
  {
   "cell_type": "markdown",
   "metadata": {},
   "source": [
    "***\n",
    "## Zadanie 4."
   ]
  },
  {
   "cell_type": "markdown",
   "metadata": {},
   "source": [
    "#### Opis zadania\n",
    "\n",
    "W zadaniu polegało na odnalezieniu miejsc zerowych funkcji $f(x) = \\sin(x) - \\frac{1}{2}x^2$. Analiza za pomocą WolframAlpha wskazała, że oprócz trywialnego miejsca zerowego przy $x = 0$, funkcja posiada także drugie miejsce zerowe w okolicy $x \\approx 1.93375$. Następnie, przy użyciu zaimplementowanych wcześniej algorytmów, przeprowadzono obliczenia dla następujących danych początkowych:\n",
    "\n",
    "1. **Metoda Bisekcji:**\n",
    "   - Przedział początkowy: $[1.5, 2]$,\n",
    "   - Tolerancja dla $x$: $\\delta = \\frac{1}{2} \\cdot 10^{-5}$,\n",
    "   - Tolerancja dla wartości funkcji: $\\varepsilon = \\frac{1}{2} \\cdot 10^{-5}$.\n",
    "\n",
    "2. **Metoda Newtona:**\n",
    "   - Przybliżenie początkowe: $x_0 = 1.5$,\n",
    "   - Tolerancja dla $x$: $\\delta = \\frac{1}{2} \\cdot 10^{-5}$,\n",
    "   - Tolerancja dla wartości funkcji: $\\varepsilon = \\frac{1}{2} \\cdot 10^{-5}$.\n",
    "\n",
    "3. **Metoda Siecznych:**\n",
    "   - Przybliżenia początkowe: $x_0 = 1, x_1 = 2$,\n",
    "   - Tolerancja dla $x$: $\\delta = \\frac{1}{2} \\cdot 10^{-5}$,\n",
    "   - Tolerancja dla wartości funkcji: $\\varepsilon = \\frac{1}{2} \\cdot 10^{-5}$.\n",
    "\n",
    "Przy użyciu tych danych przeprowadzono obliczenia, aby znaleźć miejsca zerowe funkcji."
   ]
  },
  {
   "cell_type": "markdown",
   "metadata": {},
   "source": [
    "#### Wyniki\n",
    "\n",
    "| Algorytm  | $x$                | $f(x)$                    | Iteracje |\n",
    "|-----------|--------------------|---------------------------|----------|\n",
    "| bisection | 1.9337539672851562 | -2.7027680138402843e-7    | 16       |\n",
    "| newton    | 1.933753779789742  | -2.2423316314856834e-8    | 4        |\n",
    "| secant    | 1.933753644474301  |  1.564525129449379e-7     | 4        |\n"
   ]
  },
  {
   "cell_type": "markdown",
   "metadata": {},
   "source": [
    "#### Wnioski\n",
    "\n",
    "Dla poprawnie dobranych parametrów każda z zaimplementowanych metod zwraca poprawny wynik z zadaną dokładnością, jednak różnią się one liczbą iteracji potrzebnych do osiągnięcia tego wyniku. Metoda bisekcji, pomimo potrzeby największej liczby iteracji, wyróżnia się stabilnością i niezawodnością w kontekście znajdowania miejsc zerowych funkcji. W przeciwności do tego, metoda Newtona i metoda siecznych są bardziej efektywne pod względem liczby iteracji, ale mogą wymagać starannego doboru punktów początkowych, aby osiągnąć zbieżność."
   ]
  },
  {
   "cell_type": "markdown",
   "metadata": {},
   "source": [
    "***\n",
    "## Zadanie 5."
   ]
  },
  {
   "cell_type": "markdown",
   "metadata": {},
   "source": [
    "#### Opis zadania\n",
    "\n",
    "Celem zadania było odnalezienie punktów przecięcia dwóch funkcji: $y = 3x$ oraz $y = e^x$ za pomocą metody bisekcji. Aby to osiągnąć, równamy te dwie funkcje i rozwiązujemy równanie $e^x = 3x$, co prowadzi do **$e^x - 3x = 0$**. Wymagana dokładność obliczeń wynosi $\\delta = 10^{-4}$ dla różnicy między kolejnymi przybliżeniami miejsc zerowych oraz $\\varepsilon = 10^{-4}$ dla różnicy między wartościami funkcji a zerem. Miejsca zerowe tej funkcji, wskazane przez WolframAlpha, to $x \\approx 0.619061$ oraz $x \\approx 1.51213$.\n",
    "\n",
    "![image info](./images/photo_zadanie_5.png)"
   ]
  },
  {
   "cell_type": "markdown",
   "metadata": {},
   "source": [
    "#### Wyniki\n",
    "\n",
    "| $x$              | $f(x)$                | Iteracje |\n",
    "|------------------|-----------------------|----------|\n",
    "| 0.619140625      | -9.066320343276146e-5 | 9        |\n",
    "| 1.5120849609375  | -7.618578602830439e-5 | 13       |\n",
    "\n",
    "Uzyskane iteracje należy rozpatrywać z uwzględnieniem punktów począkowych, to jest odpowiednio $(0.0, 1.0)$ i $(1.0, 2.0)$. Przedziały zostały wybrane na podstawie przewidywań miejsc zerowych."
   ]
  },
  {
   "cell_type": "markdown",
   "metadata": {},
   "source": [
    "#### Wnioski\n",
    "\n",
    "Wnioskując z wyników, można zauważyć, że metoda bisekcji pozwala na poprawne obliczenie miejsc zerowych zadanej funkcji przy odpowiednio dobranych punktach startowych. Algorytm ten wykazuje stabilność i niezawodność, co sprawia, że jest skutecznym narzędziem w przypadku tego konkretnego zadania."
   ]
  },
  {
   "cell_type": "markdown",
   "metadata": {},
   "source": [
    "***\n",
    "## Zadanie 6."
   ]
  },
  {
   "cell_type": "markdown",
   "metadata": {},
   "source": [
    "#### Opis zadania\n",
    "\n",
    "W zadaniu polegało na odnalezieniu miejsc zerowych dwóch funkcji:\n",
    "1. $f_1(x) = e^{1-x} - 1$,\n",
    "2. $f_2(x) = xe^{-x}$.\n",
    "\n",
    "Wymagane dokładności obliczeń dla tego zadania wynoszą $\\delta = 10^{-5}$ dla różnicy między kolejnymi przybliżeniami miejsc zerowych oraz $\\varepsilon = 10^{-5}$ dla różnicy między wartościami funkcji a zerem.\n",
    "\n",
    "Aby ustalić dobre parametry początkowe użyłem WolframAlpha do znalezienia miejsc zerowych badanych funkcji:\n",
    "1. $f_1 : x_0 = 1$,\n",
    "2. $f_2 : x_0 = 0$.\n",
    "\n",
    "Zbadajmy, jakie będą skutki wyboru punktu początkowego $x_0$ z przedziału $[1, \\infty)$ dla metody Newtona w przypadku funkcji $f_1$, oraz punktu początkowego $x_0 > 1$ dla funkcji $f_2$. Jednocześnie warto rozważyć, czy możliwe jest wybranie $x_0 = 1$ dla funkcji $f_2$.\n",
    "\n",
    "![image info](./images/photo_zadanie_6.png)"
   ]
  },
  {
   "cell_type": "markdown",
   "metadata": {},
   "source": [
    "#### Wyniki\n",
    "\n",
    "W tabeli poniżej znajdują się wybrane wartości początkowe na dla danych funckcji i algorytmów, starałem się je wybrać w pobliżu faktycznych miejsc zerowych, jednak wprowadzając pewną asymetrię, aby nie trywializowac choćby metody bisekcji, która przykładowo dla $x_0 = 1.0$ i przedziału poszukiwań $(0.0, 2.0)$ zakończłaby się w pierwszej iteracji. Po przeprowadzeniu testów dla różnych zmiennych poniżej zamieszczam wyniki reprezentatywnej próbki.\n",
    "\n",
    "| Metoda    | Funkcja | Parametry               |\n",
    "|-----------|---------|-------------------------|\n",
    "| bisection | $f_1$   | $a = 0.2, b = 2.0$      |\n",
    "| bisection | $f_2$   | $a = -0.8, b = 1.0$     |\n",
    "| newton    | $f_1$   | $x_0 = 0.1$             |\n",
    "| newton    | $f_2$   | $x_0 = -1.1$            |\n",
    "| secant    | $f_1$   | $x_0 = 0.2, x_1 = 2.0$  |\n",
    "| secant    | $f_2$   | $x_0 = -0.8, x_1 = 1.0$ |\n",
    "\n",
    "Wyniki dla funkcji $f_1(x) = e^{1-x} - 1$:\n",
    "\n",
    "| Metoda    | $x$                | $f(x)$                | Iteracje |\n",
    "|-----------|--------------------|-----------------------|----------|\n",
    "| bisection | 0.9999969482421875 | 3.0517624691750456e-6 | 16       | \n",
    "| newton    | 0.9999996022845382 | 3.977155409451427e-7  | 4        |  \n",
    "| secant    | 1.0000003998949842 | -3.998949043015898e-7 | 6        |  \n",
    "\n",
    "Wyniki dla funkcji $f_2(x) = xe^{-x}$:\n",
    "\n",
    "| Metoda | $x$                    | $f(x)$                | Iteracje |\n",
    "|--------|------------------------|-----------------------|----------|\n",
    "| bisect | -3.0517578125246717e-6 | -3.051767125764629e-6 | 16       | \n",
    "| newton | -1.6761614103021592e-6 | -1.676164219821587e-6 | 5        |  \n",
    "| secant | 1.9941965739369053e-7  | 1.9941961762549474e-7 | 14       | \n",
    "\n",
    "Wyniki eksperymentów z metodą newtona:\n",
    "\n",
    "| Funkcja | $x_0$ | $x$                | $f(x)$                 | Iteracje | Error |\n",
    "|---------|-------|--------------------|------------------------|----------|-------|\n",
    "| $f_1$   | 10.0  | -                  | -                      | -        | 1     |\n",
    "| $f_1$   | 100.0 | -                  | -                      | -        | 2     | \n",
    "| $f_2$   | 10.0  | 14.380524159896261 | 8.173205649825554e-6   | 4        | 0     |\n",
    "| $f_2$   | 100.0 | 100.0              | 3.7200759760208363e-42 | 0        | 0     |\n",
    "| $f_2$   | 1.0   | -                  | -                      | -        | 2     |\n",
    "\n",
    "Przeprowadzono eksperymenty, testując zachowanie metody Newtona dla $x_0 > 1$ dla funkcji $f_1$ i $f_2$, oraz zbadano, czy można bezpiecznie wybrać $x_0 = 1$ dla $f_2$. W przypadku pierwszym, próba użycia $x_0 = 10$ i $x_0 = 100$ dla $f_1$ skutkowała błędem, a dla $f_2$ dała niewłaściwy wynik. To zjawisko wynika z tego, że $\\lim_{{x \\to \\infty}} f'_1 = 0$ oraz $\\lim_{{x \\to \\infty}} f'_2 = 0$, co sprawia, że obliczone wartości są zbyt nieprecyzyjne dla działania algorytmu w naszej arytmetyce.\n",
    "\n",
    "W przypadku drugim, dla $x_0 = 1$ dla $f_2$, mamy $f'_2(1) = 0$, co sprawia, że styczna jest równoległa do osi $OX$, uniemożliwiając wyznaczenie kolejnego punktu przecięcia."
   ]
  },
  {
   "cell_type": "markdown",
   "metadata": {},
   "source": [
    "#### Wnioski\n",
    "\n",
    "Metoda Newtona oraz metoda siecznych są efektywne w uzyskiwaniu wyników w krótszej liczbie iteracji, ale ich skuteczność silnie zależy od dobrze dobranych warunków początkowych. Nieprawidłowo dobrane parametry startowe mogą skutkować uzyskaniem niepoprawnych wyników lub błędów. W związku z tym, możemy zauważyć, że każda z tych metod ma swoje zastosowanie w procesie obliczeń miejsc zerowych funkcji nieliniowych. Przykładowo, zaczynamy od metody bisekcji, aby ograniczyć przedział poszukiwań do obszaru bliskiego zera, a następnie przełączamy się na metodę Newtona lub siecznych, aby w niewielu krokach uzyskać bardzo dokładny wynik. Dlatego ważne jest dostosowanie wyboru metody do charakterystyki problemu i staranne dobranie parametrów początkowych."
   ]
  }
 ],
 "metadata": {
  "language_info": {
   "name": "python"
  }
 },
 "nbformat": 4,
 "nbformat_minor": 2
}
